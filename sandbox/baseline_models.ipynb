{
 "cells": [
  {
   "cell_type": "code",
   "execution_count": 1,
   "metadata": {},
   "outputs": [],
   "source": [
    "import os\n",
    "import torch\n",
    "import random\n",
    "import sklearn\n",
    "import numpy as np\n",
    "import pandas as pd\n",
    "import torch.nn as nn\n",
    "import torch.nn.functional as F\n",
    "import matplotlib.pyplot as plt\n",
    "from torch.utils.data import Dataset, DataLoader"
   ]
  },
  {
   "cell_type": "code",
   "execution_count": 2,
   "metadata": {},
   "outputs": [],
   "source": [
    "'''\n",
    "Initialize the parameters\n",
    "'''\n",
    "DATASET = 'income' # {\"income\", \"crim-recid\", \"health\"}\n",
    "MODEL = 'main'\n",
    "DATA_LOC = './../data/'"
   ]
  },
  {
   "cell_type": "code",
   "execution_count": 3,
   "metadata": {},
   "outputs": [],
   "source": [
    "class IncomeDataset(Dataset):\n",
    "    \"\"\"Income dataset.\"\"\"\n",
    "\n",
    "    def __init__(self, file, root_dir, transform=None):\n",
    "        \"\"\"\n",
    "        Args:\n",
    "            csv_file (string): Path to the csv file with annotations.\n",
    "            root_dir (string): Directory with all the images.\n",
    "            transform (callable, optional): Optional transform to be applied\n",
    "                on a sample.\n",
    "        \"\"\"\n",
    "        self.root_dir = root_dir\n",
    "        self.all_data = np.load(self.root_dir+file)\n",
    "        self.x = self.all_data['x']\n",
    "        self.y = self.all_data['y']\n",
    "        self.a = self.all_data['a']\n",
    "        self.transform = transform\n",
    "        \n",
    "        # Complete all the dataset specific processing here\n",
    "        print('Income dataset (x) dims: {}'.format(self.x.shape))\n",
    "        print('Income dataset (y) dims: {}'.format(self.y.shape))\n",
    "        print('Income dataset (a) dims: {}'.format(self.a.shape))\n",
    "\n",
    "    def __len__(self):\n",
    "        return self.x.shape[0]\n",
    "\n",
    "    def __getitem__(self, idx):\n",
    "        #if torch.is_tensor(idx):\n",
    "        #    idx = idx.tolist()\n",
    "        \n",
    "        sample_x, sample_y, sample_a = np.array(self.x[idx]), np.array(self.y[idx]), np.array(self.a[idx])\n",
    "        sample_x, sample_y, sample_a = torch.tensor(sample_x, dtype=torch.float32), torch.tensor(sample_y, dtype=torch.long), torch.tensor(sample_a, dtype=torch.float32)\n",
    "\n",
    "        #print('sample_x.shape: {}'.format(sample_x.shape))\n",
    "        #print('sample_y.shape: {}'.format(sample_y.shape))\n",
    "        #print('sample_a.shape: {}'.format(sample_a.shape))\n",
    "        \n",
    "        return sample_x, sample_y, sample_a"
   ]
  },
  {
   "cell_type": "code",
   "execution_count": 4,
   "metadata": {},
   "outputs": [],
   "source": [
    "'''\n",
    "Define the model\n",
    "'''\n",
    "class NNet(torch.nn.Module):\n",
    "    def __init__(self):\n",
    "        \"\"\"\n",
    "        Explicit layer definition\n",
    "        \"\"\"\n",
    "        super(NNet, self).__init__()\n",
    "        self.fc1 = nn.Linear(113, 100)\n",
    "        self.fc2 = nn.Linear(100, 50)\n",
    "        self.fc3 = nn.Linear(50, 25)\n",
    "        self.fc4 = nn.Linear(25, 2)\n",
    "\n",
    "    def forward(self, x):\n",
    "        \"\"\"\n",
    "        Explicit model definition\n",
    "        \"\"\"\n",
    "        x = F.relu(self.fc1(x))\n",
    "        x = F.relu(self.fc2(x))\n",
    "        x = F.relu(self.fc3(x))\n",
    "        x = self.fc4(x)\n",
    "        \n",
    "        return x\n",
    "\n",
    "# Construct our model by instantiating the class defined above\n",
    "model = NNet()\n",
    "\n",
    "# Construct our loss function and an Optimizer. Training this strange model with\n",
    "# vanilla stochastic gradient descent is tough, so we use momentum\n",
    "criterion = torch.nn.CrossEntropyLoss()\n",
    "optimizer = torch.optim.Adam(model.parameters(), lr=1e-4)"
   ]
  },
  {
   "cell_type": "code",
   "execution_count": 5,
   "metadata": {},
   "outputs": [
    {
     "name": "stdout",
     "output_type": "stream",
     "text": [
      "Income dataset (x) dims: (32561, 113)\n",
      "Income dataset (y) dims: (32561, 1)\n",
      "Income dataset (a) dims: (32561, 1)\n"
     ]
    }
   ],
   "source": [
    "'''\n",
    "Load the datasets\n",
    "'''\n",
    "if (DATASET=='income'):\n",
    "    dataset = IncomeDataset(file='adult_train.npz',\n",
    "                                    root_dir=DATA_LOC)\n",
    "    dataloader = DataLoader(dataset, batch_size=256,\n",
    "                        shuffle=True, num_workers=10)    \n",
    "elif (DATASET=='health'):\n",
    "    dataset = HealthDataset(file='processed.switzerland.data',\n",
    "                                    root_dir=DATA_LOC)\n",
    "    dataloader = DataLoader(dataset, batch_size=256,\n",
    "                        shuffle=True, num_workers=10)"
   ]
  },
  {
   "cell_type": "code",
   "execution_count": 6,
   "metadata": {},
   "outputs": [
    {
     "data": {
      "text/plain": [
       "NNet(\n",
       "  (fc1): Linear(in_features=113, out_features=100, bias=True)\n",
       "  (fc2): Linear(in_features=100, out_features=50, bias=True)\n",
       "  (fc3): Linear(in_features=50, out_features=25, bias=True)\n",
       "  (fc4): Linear(in_features=25, out_features=2, bias=True)\n",
       ")"
      ]
     },
     "execution_count": 6,
     "metadata": {},
     "output_type": "execute_result"
    }
   ],
   "source": [
    "model"
   ]
  },
  {
   "cell_type": "code",
   "execution_count": 7,
   "metadata": {},
   "outputs": [
    {
     "name": "stdout",
     "output_type": "stream",
     "text": [
      "epoch: 0, loss: 0.00233, accuracy: 77.63%\n",
      "epoch: 10, loss: 0.00160, accuracy: 81.49%\n",
      "epoch: 20, loss: 0.00129, accuracy: 84.94%\n",
      "epoch: 30, loss: 0.00126, accuracy: 85.25%\n",
      "epoch: 40, loss: 0.00125, accuracy: 85.38%\n",
      "epoch: 50, loss: 0.00124, accuracy: 85.43%\n",
      "epoch: 60, loss: 0.00124, accuracy: 85.50%\n",
      "epoch: 70, loss: 0.00123, accuracy: 85.53%\n",
      "epoch: 80, loss: 0.00123, accuracy: 85.52%\n",
      "epoch: 90, loss: 0.00122, accuracy: 85.64%\n"
     ]
    }
   ],
   "source": [
    "'''\n",
    "Train the model\n",
    "'''\n",
    "\n",
    "epochs = 100\n",
    "total = 0\n",
    "correct = 0\n",
    "running_loss = 0\n",
    "    \n",
    "for t in range(epochs):\n",
    "    for i_batch, sample_batched in enumerate(dataloader):\n",
    "        x, y, a = sample_batched[0], sample_batched[1].squeeze(), sample_batched[2]\n",
    "        \n",
    "        # Forward pass: Compute predicted y by passing x to the model\n",
    "        y_pred = model(x)\n",
    "        \n",
    "        # Compute and print loss\n",
    "        loss = criterion(y_pred, y)\n",
    "        \n",
    "        _, predicted = torch.max(y_pred.data, 1)\n",
    "        total += y.size(0)\n",
    "        correct += (predicted == y).sum().item()\n",
    "        running_loss += loss\n",
    "        \n",
    "        # Zero gradients, perform a backward pass, and update the weights.\n",
    "        optimizer.zero_grad()\n",
    "        loss.backward()\n",
    "        optimizer.step()\n",
    "        \n",
    "    if (t%10==0):\n",
    "        print('epoch: {}, loss: {:.5f}, accuracy: {:.2f}%'.format(t, running_loss/total, 100*correct/total))\n",
    "        running_loss = 0\n",
    "        total = 0\n",
    "        correct = 0"
   ]
  },
  {
   "cell_type": "code",
   "execution_count": 8,
   "metadata": {},
   "outputs": [
    {
     "data": {
      "text/plain": [
       "'\\nTrain the model (Regularize with different fairness metrics)\\n'"
      ]
     },
     "execution_count": 8,
     "metadata": {},
     "output_type": "execute_result"
    }
   ],
   "source": [
    "'''\n",
    "Train the model (Regularize with different fairness metrics)\n",
    "'''\n"
   ]
  },
  {
   "cell_type": "code",
   "execution_count": null,
   "metadata": {},
   "outputs": [],
   "source": []
  }
 ],
 "metadata": {
  "kernelspec": {
   "display_name": "Python 3",
   "language": "python",
   "name": "python3"
  },
  "language_info": {
   "codemirror_mode": {
    "name": "ipython",
    "version": 3
   },
   "file_extension": ".py",
   "mimetype": "text/x-python",
   "name": "python",
   "nbconvert_exporter": "python",
   "pygments_lexer": "ipython3",
   "version": "3.6.9"
  }
 },
 "nbformat": 4,
 "nbformat_minor": 2
}
